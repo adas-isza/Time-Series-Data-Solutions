{
 "cells": [
  {
   "cell_type": "code",
   "execution_count": 7,
   "metadata": {},
   "outputs": [
    {
     "data": {
      "image/png": "[encoded data removed]",
      "text/plain": [
       "<Figure size 720x360 with 1 Axes>"
      ]
     },
     "metadata": {},
     "output_type": "display_data"
    }
   ],
   "source": [
    "import os\n",
    "import numpy as np\n",
    "import torch.nn as nn\n",
    "import pickle\n",
    "import random\n",
    "import pandas as pd\n",
    "import torch\n",
    "from torch.autograd import Variable\n",
    "from pandas_ods_reader import read_ods\n",
    "import sklearn.preprocessing as preprocessing\n",
    "import matplotlib.pyplot as plt\n",
    "% matplotlib inline\n",
    "\n",
    "xHCOcI_thresh = 200\n",
    "xHCOcI_thresh2 = 900\n",
    "# Import data start with HCaltitude.ods\n",
    "num_list = []\n",
    "path = 'data/HCaltitude.ods'\n",
    "sheet_idx = 1\n",
    "df = read_ods(path, sheet_idx)\n",
    "\n",
    "# Select columns which are common among three data sets\n",
    "df= df.drop(columns=['Sno', 'HCUDF', 'HCUDFpolynomial'])\n",
    "columns = list(df.columns)\n",
    "filter = df['xHCOcI'] > xHCOcI_thresh\n",
    "df = df.loc[filter]\n",
    "filter = df['xHCOcI'] < xHCOcI_thresh2\n",
    "df = df.loc[filter]\n",
    "data = df[columns]\n",
    "num_list.append(data.shape[0])\n",
    "\n",
    "# Import other two kinds of data\n",
    "paths = ['data/HCDOE.ods']\n",
    "for path in paths:\n",
    "    sheet_idx = 1\n",
    "    df = read_ods(path, sheet_idx)\n",
    "    df = df[columns]\n",
    "    filter = df['xHCOcI'] > xHCOcI_thresh\n",
    "    df = df.loc[filter]\n",
    "    filter = df['xHCOcI'] < xHCOcI_thresh2\n",
    "\n",
    "    df = df.loc[filter]\n",
    "    data = pd.concat([data, df])\n",
    "    num_list.append(data.shape[0])\n",
    "data_origin = data.copy()\n",
    "num_list_origin = num_list.copy()\n",
    "\n",
    "n1 = num_list[0]\n",
    "n2 = num_list[1] - num_list[0]\n",
    "\n",
    "# Visulize filtered data\n",
    "boxplot = data.boxplot(grid=False, figsize=(10,5), rot=45, return_type='dict')\n",
    "\n"
   ]
  },
  {
   "cell_type": "code",
   "execution_count": 8,
   "metadata": {},
   "outputs": [],
   "source": [
    "data = data.to_numpy()\n",
    "\n",
    "# Scale data to [0,1]\n",
    "scalerX = preprocessing.MinMaxScaler().fit(data[:, 1:])\n",
    "scalery = preprocessing.MinMaxScaler().fit(data[:, 0:1])\n",
    "data[:, 1:] = scalerX.transform(data[:, 1:])\n",
    "# data[:, 0:1] = scalery.transform(data[:, 0:1])\n",
    "\n",
    "# HCaltitude as target set\n",
    "y_target = torch.from_numpy(data[:num_list[0], 0:1]).to(dtype=torch.float32).cuda()\n",
    "x_target = torch.from_numpy(data[:num_list[0], 1:]).to(dtype=torch.float32).cuda()\n",
    "\n",
    "# Set the other two sets for training and testing with properation of 7:3\n",
    "HCDOE = data[num_list[0]:num_list[1], :]\n",
    "training_size = [int(0.7 * n2)]\n",
    "test_size = [n2 - int(0.7 * n2)]\n",
    "batch_list = [[item for item in range(training_size[0])]]\n",
    "chosen_size = [training_size[0] + test_size[0]]\n",
    "\n",
    "\n",
    "\n",
    "chosen_list = [item for item in range(HCDOE.shape[0])]\n",
    "random.shuffle(chosen_list)\n",
    "x_training = HCDOE[chosen_list[:training_size[0]], 1:]\n",
    "y_training = HCDOE[chosen_list[:training_size[0]], 0:1]\n",
    "x_test = HCDOE[chosen_list[training_size[0]:chosen_size[0]], 1:]\n",
    "y_test = HCDOE[chosen_list[training_size[0]:chosen_size[0]], 0:1]\n",
    "\n",
    "\n"
   ]
  },
  {
   "cell_type": "code",
   "execution_count": 9,
   "metadata": {},
   "outputs": [
    {
     "name": "stderr",
     "output_type": "stream",
     "text": [
      "/usr/local/lib/python3.6/dist-packages/sklearn/utils/validation.py:724: DataConversionWarning: A column-vector y was passed when a 1d array was expected. Please change the shape of y to (n_samples, ), for example using ravel().\n",
      "  y = column_or_1d(y, warn=True)\n"
     ]
    },
    {
     "data": {
      "text/plain": [
       "0.03433968327695747"
      ]
     },
     "execution_count": 9,
     "metadata": {},
     "output_type": "execute_result"
    }
   ],
   "source": [
    "from sklearn.svm import SVR\n",
    "from sklearn.metrics import mean_squared_error as MSE\n",
    "from sklearn.metrics import r2_score\n",
    "\n",
    "estimator = SVR(kernel='linear', gamma='auto', C=10000.0)\n",
    "estimator.fit(x_training, y_training)\n",
    "y_pred = estimator.predict(x_test)\n",
    "r2_score(y_test, y_pred)\n",
    "\n",
    "# batch_content = random.sample(batch_list[dataset_idx], batch_size)\n",
    "# x_batch = x_training[dataset_idx][batch_content, :]\n",
    "# y_batch = y_training[dataset_idx][batch_content]\n",
    "# # Update process\n",
    "# y_pred = net(x_batch)\n",
    "# loss = MSELoss(y_pred, y_batch)\n",
    "# optimizer.zero_grad()\n",
    "# loss.backward(retain_graph=True)\n",
    "# optimizer.step()\n",
    "\n",
    "# # Test    \n",
    "# y_pred = net(x_test_0)\n",
    "# y_real = y_test_0\n",
    "# #     y_pred = torch.from_numpy(scalery.inverse_transform(y_pred.cpu().detach().numpy())).to(dtype=torch.float32).cuda()    \n",
    "# #     y_real = torch.from_numpy(scalery.inverse_transform(y_real.cpu().detach().numpy())).to(dtype=torch.float32).cuda()\n",
    "# loss_0 = MSELoss(y_pred, y_real)\n",
    "# loss_0 = torch.sqrt(loss_0.data)\n",
    "# #     loss_0 = MSELoss(y_pred, y_real) / (torch.mean(y_real) ** 2)\n",
    "\n",
    "# print('epoch: %d || DOE: %f' % (step, loss_0.data))\n",
    "# loss = loss_0\n",
    "# if step > 10:\n",
    "#     if weight_flag == 0:\n",
    "#         # Save weights\n",
    "#         weight_name = 'out/model_%d.ckpt' % (step)\n",
    "#         torch.save(net.state_dict(), weight_name)\n",
    "#         weight_flag = 1\n",
    "#         best_one = loss.data\n",
    "#     else:\n",
    "#         if loss.data < best_one:\n",
    "#             weight_name = 'out/model_%d_%.1f.ckpt' % (step, loss.data)\n",
    "#             torch.save(net.state_dict(), weight_name)\n",
    "#             best_one = loss.data"
   ]
  },
  {
   "cell_type": "code",
   "execution_count": 27,
   "metadata": {},
   "outputs": [
    {
     "name": "stdout",
     "output_type": "stream",
     "text": [
      "epoch: 26417 || DOE: 127.266273\n",
      "[-0.07701432704925537]\n"
     ]
    }
   ],
   "source": [
    "r_list = []\n",
    "net.load_state_dict(torch.load('out/model_17813_127.3.ckpt'))\n",
    "y_pred = net(x_test_0)\n",
    "y_real = y_test_0\n",
    "# y_pred = torch.from_numpy(scalery.inverse_transform(y_pred.cpu().detach().numpy())).to(dtype=torch.float32).cuda()    \n",
    "# y_real = torch.from_numpy(scalery.inverse_transform(y_real.cpu().detach().numpy())).to(dtype=torch.float32).cuda()\n",
    "loss_0 = MSELoss(y_pred, y_real)\n",
    "\n",
    "\n",
    "t = [i for i in range(len(y_real))]\n",
    "plt.plot(t, y_real.cpu().detach().numpy())\n",
    "plt.plot(t, y_pred.cpu().detach().numpy())\n",
    "plt.legend(['prediction', 'observation'])\n",
    "plt.xlabel('DOE sample points')\n",
    "plt.ylabel('HCOcl value')\n",
    "plt.title('RMSE = %0.2f' % torch.sqrt(loss_0.data))\n",
    "plt.savefig('DOE.png', dpi=400)\n",
    "plt.close()\n",
    "\n",
    "y_real = y_real.cpu().detach().numpy()\n",
    "y_pred = y_pred.cpu().detach().numpy()\n",
    "A = np.squeeze(y_pred)\n",
    "B = np.squeeze(y_real)\n",
    "res = B - A\n",
    "tot = B - B.mean()\n",
    "r = 1 - res.dot(res) / tot.dot(tot)\n",
    "r_list.append(r)\n",
    "plt.scatter(y_real, y_pred)\n",
    "plt.xlabel('Actual values')\n",
    "plt.ylabel('Predicted values')\n",
    "plt.title('R-squared = %0.2f' % r)\n",
    "plt.savefig('DOE_r.png', dpi=400)\n",
    "plt.close()\n",
    "\n",
    "\n",
    "print('epoch: %d || DOE: %f' % (step, torch.sqrt(loss_0.data)))\n",
    "print(r_list)"
   ]
  },
  {
   "cell_type": "code",
   "execution_count": 4,
   "metadata": {},
   "outputs": [],
   "source": [
    "a = [[1, 2], [2, 3], [1,3]]"
   ]
  },
  {
   "cell_type": "code",
   "execution_count": 5,
   "metadata": {},
   "outputs": [],
   "source": [
    "a.sort()"
   ]
  },
  {
   "cell_type": "code",
   "execution_count": 6,
   "metadata": {},
   "outputs": [
    {
     "data": {
      "text/plain": [
       "[[1, 2], [1, 3], [2, 3]]"
      ]
     },
     "execution_count": 6,
     "metadata": {},
     "output_type": "execute_result"
    }
   ],
   "source": [
    "a"
   ]
  },
  {
   "cell_type": "code",
   "execution_count": null,
   "metadata": {},
   "outputs": [],
   "source": []
  }
 ],
 "metadata": {
  "kernelspec": {
   "display_name": "Python 3",
   "language": "python",
   "name": "python3"
  },
  "language_info": {
   "codemirror_mode": {
    "name": "ipython",
    "version": 3
   },
   "file_extension": ".py",
   "mimetype": "text/x-python",
   "name": "python",
   "nbconvert_exporter": "python",
   "pygments_lexer": "ipython3",
   "version": "3.6.9"
  }
 },
 "nbformat": 4,
 "nbformat_minor": 2
}
