{
 "cells": [
  {
   "cell_type": "code",
   "execution_count": 1,
   "metadata": {},
   "outputs": [],
   "source": [
    "import pandas as pd\n",
    "import numpy as np\n",
    "import os\n",
    "import sklearn.preprocessing as preprocessing\n",
    "import random\n",
    "import torch\n",
    "import torch.nn as nn\n",
    "import scipy.stats as stats\n",
    "from scipy.stats import gamma\n",
    "import matplotlib.pyplot as plt\n",
    "% matplotlib inline"
   ]
  },
  {
   "cell_type": "markdown",
   "metadata": {},
   "source": [
    "# Import data"
   ]
  },
  {
   "cell_type": "code",
   "execution_count": 2,
   "metadata": {},
   "outputs": [],
   "source": [
    "# preprocessing\n",
    "# input_idx = [11,12,13,14,16,17,19,21,23,26,28,29,30,40,42,44,46,48,\n",
    "#  50,51,54,56,58,60,61,62,63,64,65,72,74,76,78,\n",
    "#  80,81,82,84,85,86,87,88,89,90,91,92,93,94,95,96,97,98,99,\n",
    "# 100,101,102,103,104,105,106,109,110,111,112,113,114,115,117,118,119,\n",
    "# 120,121,122,123,124,125,126,134,135,136,137,138,139,\n",
    "# 140,143,149,150,151,152,153,154,155,156,157,158,175,\n",
    "# 201,202,203,204,262,263,264,265,266,267,268,276,277,278,279,\n",
    "# 280,286,287,289,290,291,292,293,294,295,296,297,298,299,\n",
    "# 300,303,304,305,306,307,308,309,310,311,314,315,316,317,318,319,\n",
    "# 320,327,328,332,333,338,354,360,366,372,373]\n",
    "\n",
    "# output_idx = [24,25,27,32,33,37,47,49,52,55,59,66,67,68,69,70,71,83,\n",
    "# 107,108,116,127,128,129,130,131,132,133,141,142,144,\n",
    "# 207,208,209,210,212,251,272,329,330,349,350,355,356,361,362,367,368]\n",
    "\n",
    "input_idx = pd.read_excel('x.xlsx', header=None).to_numpy().squeeze().tolist()\n",
    "output_idx = pd.read_excel('y.xlsx', header=None).to_numpy().squeeze().tolist()\n",
    "\n",
    "input_length = len(input_idx)\n",
    "output_length = len(output_idx)\n",
    "\n",
    "input_idx = [i-1 for i in input_idx]\n",
    "output_idx = [i-1 for i in output_idx]\n",
    "all_idx = output_idx + input_idx\n",
    "output_dim = len(output_idx)\n",
    "\n",
    "# # fist time to import data\n",
    "# path = 'CSV/VC65_04_ENG'\n",
    "# normal_list = []\n",
    "\n",
    "# files = os.listdir(path)\n",
    "# for file in files:\n",
    "#     if file[-4:] != '.csv': continue\n",
    "#     data = pd.read_csv(os.path.join(path, file),header=None, encoding = 'Shift-JIS')\n",
    "#     data = data.to_numpy()\n",
    "#     data = data[:, all_idx]\n",
    "#     normal_list += [data]\n",
    "    \n",
    "# normal_np = np.array(normal_list)\n",
    "# np.save('VC65_04_ENG.npy', normal_np)"
   ]
  },
  {
   "cell_type": "code",
   "execution_count": 49,
   "metadata": {},
   "outputs": [
    {
     "data": {
      "text/plain": [
       "119"
      ]
     },
     "execution_count": 49,
     "metadata": {},
     "output_type": "execute_result"
    }
   ],
   "source": [
    "len(input_idx)"
   ]
  },
  {
   "cell_type": "markdown",
   "metadata": {},
   "source": [
    "# Import data (second time only)"
   ]
  },
  {
   "cell_type": "code",
   "execution_count": 3,
   "metadata": {},
   "outputs": [],
   "source": [
    "# for second time to load data\n",
    "normal_np = np.load('VC65_04_ENG.npy', allow_pickle=True)\n",
    "# normal_np = np.where(normal_np == 'OFF', 0, normal_np)\n",
    "# normal_np = np.where(normal_np == '--', 1, normal_np)\n",
    "# normal_np = np.where(normal_np == 'ON', 2, normal_np)\n",
    "\n",
    "normal_np = normal_np.astype(np.float32)"
   ]
  },
  {
   "cell_type": "markdown",
   "metadata": {},
   "source": [
    "# Data structure"
   ]
  },
  {
   "cell_type": "code",
   "execution_count": 4,
   "metadata": {},
   "outputs": [],
   "source": [
    "class dataset:\n",
    "    def __init__(self, np):\n",
    "        self.numpy = np\n",
    "        self.scaled = False\n",
    "        \n",
    "    def scaler(self, output_length):\n",
    "        self.scaled = True\n",
    "        reshaped = self.numpy.reshape((-1, self.numpy.shape[-1]))\n",
    "        self.scalerY = preprocessing.MaxAbsScaler().fit(reshaped[:,:output_length])\n",
    "        self.scalerX = preprocessing.MaxAbsScaler().fit(reshaped[:,output_length:])\n",
    "        reshaped[:, :output_length] = self.scalerY.transform(reshaped[:, :output_length])\n",
    "        reshaped[:, output_length:] = self.scalerX.transform(reshaped[:, output_length:])\n",
    "        self.numpy = reshaped.reshape((self.numpy.shape[0], self.numpy.shape[1], self.numpy.shape[2]))\n",
    "            \n",
    "    def split(self):\n",
    "        length = self.numpy.shape[0]\n",
    "#         fold_idx = [i for i in range(length)]\n",
    "#         random.shuffle(fold_idx)\n",
    "#         self.fold_idx = fold_idx\n",
    "#         np.save('fold_huffle.npy', np.array(fold_idx))\n",
    "        \n",
    "#         self.set_idx = [i for i in range(length//3*2)]\n",
    "#         random.shuffle(self.set_idx)\n",
    "#         np.save('set_huffle.npy', np.array(self.set_idx))\n",
    "        \n",
    "        fold_idx = np.load('fold_huffle.npy')\n",
    "        self.fold_idx = fold_idx.tolist()\n",
    "        self.set_idx = np.load('set_huffle.npy').tolist()\n",
    "        \n",
    "#         fold_idx = np.load('shuffle.npy')\n",
    "#         fold_idx = fold_idx.tolist()\n",
    "        self.l1 = self.numpy[fold_idx[:length//3], :, :]\n",
    "        self.l2 = self.numpy[fold_idx[length//3:length//3*2], :, :]\n",
    "        self.l3 = self.numpy[fold_idx[length//3*2:], :, :]\n",
    "        \n",
    "        self.l1 = torch.from_numpy(self.l1).to(dtype=torch.float32)\n",
    "        self.l2 = torch.from_numpy(self.l2).to(dtype=torch.float32)\n",
    "        self.l3 = torch.from_numpy(self.l3).to(dtype=torch.float32)\n",
    "#         self.l = torch.from_numpy(self.numpy).to(dtype=torch.float32)"
   ]
  },
  {
   "cell_type": "markdown",
   "metadata": {},
   "source": [
    "# Data process"
   ]
  },
  {
   "cell_type": "code",
   "execution_count": 5,
   "metadata": {},
   "outputs": [],
   "source": [
    "data_set = dataset(normal_np)\n",
    "data_set.scaler(output_length)\n",
    "data_set.split()"
   ]
  },
  {
   "cell_type": "markdown",
   "metadata": {},
   "source": [
    "# Supporting functions"
   ]
  },
  {
   "cell_type": "code",
   "execution_count": 6,
   "metadata": {},
   "outputs": [],
   "source": [
    "def get_set(fold, data_set):\n",
    "    if fold == '1':\n",
    "        dam = data_set.l1.shape[0]//3\n",
    "        return torch.cat([data_set.l2, data_set.l3]), data_set.l1[dam:, :], data_set.l1[:dam, :]\n",
    "    if fold == '2':\n",
    "        dam = data_set.l2.shape[0]//3\n",
    "        return torch.cat([data_set.l1, data_set.l3]), data_set.l2[dam:, :], data_set.l2[:dam, :]\n",
    "    if fold == '3':\n",
    "        dam = data_set.l3.shape[0]//3\n",
    "        return torch.cat([data_set.l1, data_set.l2]), data_set.l3[dam:, :], data_set.l3[:dam, :]\n",
    "    \n",
    "def divide_batch(batch_num, x, y):\n",
    "    x_batch_list = []\n",
    "    y_batch_list = []\n",
    "    interval = int(x.shape[0]/batch_num)\n",
    "    print(interval)\n",
    "    if batch_num == 1:\n",
    "        return [x.transpose(0, 1)], [y.transpose(0, 1)]\n",
    "    for i in range(batch_num - 1):\n",
    "        x_batch_list += [x[interval*i:interval*(i + 1)].transpose(0, 1)]\n",
    "        y_batch_list += [y[interval*i:interval*(i + 1)].transpose(0, 1)]\n",
    "    x_batch_list += [x[interval*(i + 1):].transpose(0, 1)]\n",
    "    y_batch_list += [y[interval*(i + 1):].transpose(0, 1)]\n",
    "    return x_batch_list, y_batch_list"
   ]
  },
  {
   "cell_type": "markdown",
   "metadata": {},
   "source": [
    "# Training normal data"
   ]
  },
  {
   "cell_type": "code",
   "execution_count": 39,
   "metadata": {
    "scrolled": true
   },
   "outputs": [
    {
     "name": "stdout",
     "output_type": "stream",
     "text": [
      "625\n"
     ]
    }
   ],
   "source": [
    "## Network structure\n",
    "class LSTM(nn.Module):\n",
    "    def __init__(self, input_dim, hidden_dim, output_dim, batch_size=1, num_layers=2):\n",
    "        super(LSTM, self).__init__()\n",
    "        self.input_dim = input_dim\n",
    "        self.hidden_dim = hidden_dim\n",
    "        self.batch_size = batch_size\n",
    "        self.num_layers = num_layers\n",
    "        self.output_dim = output_dim\n",
    "        self.lstm = nn.LSTM(self.input_dim, self.hidden_dim, self.num_layers)\n",
    "        # Define output layer\n",
    "        self.linear = nn.Linear(self.hidden_dim, self.output_dim)\n",
    "#         self.tanh = nn.Tanh()\n",
    "\n",
    "#     def init_hidden(self): # Not required\n",
    "#         return (torch.zeros(self.num_layers, self.batch_size, self.hidden_dim).cuda(), torch.zeros(self.num_layers, self.batch_size, self.hidden_dim).cuda())\n",
    "\n",
    "    def forward(self, x):\n",
    "        # shape of input  (seq_length, batch, input_dim)\n",
    "        # shape of output (seq_length, batch, hidden_dim)\n",
    "        lstm_out, _ = self.lstm(x)\n",
    "        y_pred = self.linear(lstm_out)\n",
    "#         y_pred = self.tanh(y_pred)\n",
    "        return y_pred\n",
    "\n",
    "fold = '3' # fold = 1, 2, 3\n",
    "output_file = fold\n",
    "testTraining_batch_num = 10\n",
    "# os.makedirs(output_file)\n",
    "\n",
    "training, validation, test = get_set(fold, data_set)\n",
    "\n",
    "x_training = training[:, :, output_length:]\n",
    "y_training = training[:, :, :output_length]\n",
    "\n",
    "# x_validation = validation[:, :, output_length:]\n",
    "# y_validation = validation[:, :, :output_length]\n",
    "\n",
    "x_testTraining_batch_list, y_testTraining_batch_list = divide_batch(testTraining_batch_num, x_training, y_training)\n",
    "\n",
    "batch_list = [i for i in range(training.shape[0])]\n",
    "\n",
    "# Set hyperparameters\n",
    "Epoch = 100000\n",
    "batch_size = 100\n",
    "lr = 1e-4\n",
    "hidden_dim = 500\n",
    "net = LSTM(input_length, hidden_dim, output_length).cuda()\n",
    "\n",
    "# Optimizers\n",
    "optimizer = torch.optim.Adam(net.parameters(), lr=lr)\n",
    "MSELoss = nn.MSELoss()\n",
    "L1Loss = nn.L1Loss()\n",
    "weight_flag = 0\n",
    "num_train = training.shape[0]\n",
    "# x_test = x_test.cuda().transpose(0, 1) # Required for LSTM network, the input dimension is [length, batch, feature]\n",
    "# y_test = y_test.cuda()\n",
    "\n",
    "# print('Start training')\n",
    "# for epoch in range(Epoch): \n",
    "#     for step in range(int(num_train/batch_size)):\n",
    "#         batch_content = random.sample(batch_list, batch_size)\n",
    "#         x_batch = x_training[batch_content, :, :].transpose(0, 1).cuda()\n",
    "#         y_batch = y_training[batch_content, :, :].transpose(0, 1).cuda()\n",
    "#     #     print(torch.cuda.memory_allocated())\n",
    "#         # Update process\n",
    "#         y_pred = net(x_batch)\n",
    "#         loss = MSELoss(y_pred, y_batch)\n",
    "#         optimizer.zero_grad()\n",
    "#         loss.backward(retain_graph=True)\n",
    "#         optimizer.step()\n",
    "    \n",
    "#     testTraining_loss = 0\n",
    "#     for i in range(testTraining_batch_num - 1):\n",
    "#         x_testTraining_batch = x_testTraining_batch_list[i].cuda()\n",
    "#         y_testTraining_batch = y_testTraining_batch_list[i].cuda()\n",
    "#         testTraining_loss += MSELoss(net(x_testTraining_batch), y_testTraining_batch)\n",
    "#         del x_testTraining_batch\n",
    "#         del y_testTraining_batch\n",
    "#         torch.cuda.empty_cache()\n",
    "#     testTraining_loss = testTraining_loss/testTraining_batch_num\n",
    "\n",
    "#     print('epoch: %d || loss: %.5f ' % (epoch, testTraining_loss.data))\n",
    "\n",
    "#     if epoch > 10:\n",
    "#         if weight_flag == 0:\n",
    "#             # Save weights\n",
    "#             weight_name = output_file + '/model_%d.ckpt' % (epoch)\n",
    "#             torch.save(net.state_dict(), weight_name)\n",
    "#             weight_flag = 1\n",
    "#             best_one = testTraining_loss.data\n",
    "#         else:\n",
    "#             if testTraining_loss.data < best_one:\n",
    "#                 weight_name = output_file + '/model_%d_%.5f.ckpt' % (epoch, testTraining_loss.data)\n",
    "#                 torch.save(net.state_dict(), weight_name)\n",
    "#                 best_one = testTraining_loss.data"
   ]
  },
  {
   "cell_type": "markdown",
   "metadata": {},
   "source": [
    "# Import DTC data"
   ]
  },
  {
   "cell_type": "code",
   "execution_count": 40,
   "metadata": {},
   "outputs": [],
   "source": [
    "path = 'CSV/VC65_04_ENG_dtc'\n",
    "failure_dict = {}\n",
    "dtc_codes = os.listdir(path)\n",
    "for dtc_code in dtc_codes:\n",
    "    failure_list = []\n",
    "    files = os.listdir(os.path.join(path, dtc_code))\n",
    "    for file in files:\n",
    "       \n",
    "        if file[-4:] != '.csv': continue\n",
    "        data = pd.read_csv(os.path.join(path, dtc_code, file),header=None, encoding = 'Shift-JIS')\n",
    "        data = data.to_numpy()\n",
    "        data = data[:, all_idx]\n",
    "        data = data.astype(np.float32)\n",
    "        data[:, :output_length] = data_set.scalerY.transform(data[:, :output_length])\n",
    "        data[:, output_length:] = data_set.scalerX.transform(data[:, output_length:])\n",
    "        data = data[np.newaxis, ...]\n",
    "        data = torch.from_numpy(data).to(dtype=torch.float32)\n",
    "        failure_list += [data]        \n",
    "    failure_dict[dtc_code] = failure_list"
   ]
  },
  {
   "cell_type": "markdown",
   "metadata": {},
   "source": [
    "# Validation"
   ]
  },
  {
   "cell_type": "code",
   "execution_count": 43,
   "metadata": {},
   "outputs": [],
   "source": [
    "torch.cuda.empty_cache()\n",
    "net.load_state_dict(torch.load(fold + '/model_9811_0.00004.ckpt'))\n",
    "x_validation = validation[:, :, output_length:]\n",
    "y_validation = validation[:, :, :output_length]\n",
    "\n",
    "x_validation = x_validation.transpose(0, 1).cuda()\n",
    "y_pred = net(x_validation).transpose(0, 1).cpu().detach().numpy()\n",
    "y_validation = y_validation.numpy()\n",
    "\n",
    "# diff = (y_pred - y_validation).mean(axis=1)\n",
    "val_diff = abs(y_pred - y_validation)\n",
    "# val_diff = y_pred - y_validation\n",
    "# delete large mse\n",
    "# val_diff = np.mean(val_diff, axis=1)\n",
    "mean = np.mean(val_diff, axis=1)\n",
    "std = np.std(val_diff, axis=1)\n",
    "val = np.concatenate([mean, std], axis=1)\n",
    "# val = mean\n",
    "# thresh = np.abs(mean) + 3*abs(std)\n",
    "\n",
    "# 4 sigma: 0.999936657516334\n",
    "# 1 - 1/2084 = 0.9995201535508638"
   ]
  },
  {
   "cell_type": "code",
   "execution_count": 44,
   "metadata": {},
   "outputs": [],
   "source": [
    "# Test result\n",
    "test_result_dtc = []\n",
    "for dtc_code in failure_dict:\n",
    "#     dtc_code = list(failure_dict.keys())[0]\n",
    "\n",
    "    for test_dtc in failure_dict[dtc_code]:\n",
    "#         test_dtc = failure_dict[dtc_code][0]\n",
    "\n",
    "        x_test_dtc = test_dtc[:, :, output_length:]\n",
    "        y_test_dtc = test_dtc[:, :, :output_length]\n",
    "        x_test_dtc = x_test_dtc.transpose(0, 1).cuda()\n",
    "        y_pred = net(x_test_dtc).transpose(0, 1).cpu().detach().numpy()\n",
    "        y_test_dtc = y_test_dtc.numpy()\n",
    "\n",
    "#         diff = y_pred - y_test_dtc\n",
    "        diff = abs(y_pred - y_test_dtc)\n",
    "#         diff = diff.mean(axis=1)[0]\n",
    "        mean = np.mean(diff, axis=1)\n",
    "#         mean = np.expand_dims(mean, axis=1)\n",
    "        std = np.std(diff, axis=1)\n",
    "        sample = np.concatenate([mean, std], axis=1)[0]\n",
    "#         test_result_dtc += [mean[0]]\n",
    "        test_result_dtc += [sample]\n",
    "        \n",
    "#         print(judge)\n",
    "\n",
    "\n",
    "test_result_dtc = np.array(test_result_dtc)\n",
    "# failure_np = reshaped.reshape((failure_np.shape[0], failure_np.shape[1], failure_np.shape[2]))\n",
    "# failure_dict[dtc_code] = failure_np\n",
    "# np.save('dtc.npy', test_result_dtc)"
   ]
  },
  {
   "cell_type": "code",
   "execution_count": 45,
   "metadata": {},
   "outputs": [],
   "source": [
    "x_test = test[:, :, output_length:]\n",
    "y_test = test[:, :, :output_length]\n",
    "\n",
    "x_test = x_test.transpose(0, 1).cuda()\n",
    "y_pred = net(x_test).transpose(0, 1).cpu().detach().numpy()\n",
    "y_test = y_test.numpy()\n",
    "# diff = y_pred - y_test\n",
    "diff = abs(y_pred - y_test)\n",
    "# test_result = diff.mean(axis=1)\n",
    "# test_result = np.mean(diff, axis=1)\n",
    "mean = np.mean(diff, axis=1)\n",
    "std = np.std(diff, axis=1)\n",
    "test_result = np.concatenate([mean, std], axis=1)\n",
    "# test_result = mean"
   ]
  },
  {
   "cell_type": "code",
   "execution_count": 990,
   "metadata": {},
   "outputs": [
    {
     "data": {
      "text/plain": [
       "(2084, 160)"
      ]
     },
     "execution_count": 990,
     "metadata": {},
     "output_type": "execute_result"
    }
   ],
   "source": [
    "val.shape"
   ]
  },
  {
   "cell_type": "code",
   "execution_count": 46,
   "metadata": {},
   "outputs": [
    {
     "name": "stdout",
     "output_type": "stream",
     "text": [
      "0.9846596356663471\n",
      "0.9788867562380038\n",
      "0.9615384615384616\n"
     ]
    }
   ],
   "source": [
    "from sklearn import mixture\n",
    "from sklearn.svm import OneClassSVM\n",
    "from sklearn.ensemble import IsolationForest\n",
    "from sklearn.covariance import EllipticEnvelope\n",
    "from sklearn import decomposition\n",
    "\n",
    "pca = decomposition.PCA(n_components=60)\n",
    "pca.fit(val)\n",
    "test_result0 = pca.transform(test_result)\n",
    "val0 = pca.transform(val)\n",
    "test_result_dtc0 = pca.transform(test_result_dtc)\n",
    "\n",
    "# g = EllipticEnvelope(contamination=0.01, random_state=0)\n",
    "# g = OneClassSVM(gamma='auto', degree=5, kernel='rbf',nu=0.1)\n",
    "# g = mixture.GaussianMixture(n_components=1, covariance_type='full', max_iter=100000)\n",
    "g = IsolationForest(contamination=0.015, n_estimators=5000, behaviour='new', max_samples=2000)\n",
    "g.fit(val0) \n",
    "print(np.sum(np.sum((g.predict(val0)>0)*1)/val0.shape[0]))\n",
    "print(np.sum(np.sum((g.predict(test_result0)>0)*1)/test_result0.shape[0]))\n",
    "print(np.sum(np.sum((g.predict(test_result_dtc0)<0)*1)/test_result_dtc0.shape[0]))"
   ]
  },
  {
   "cell_type": "code",
   "execution_count": 48,
   "metadata": {},
   "outputs": [
    {
     "data": {
      "text/plain": [
       "2054"
      ]
     },
     "execution_count": 48,
     "metadata": {},
     "output_type": "execute_result"
    }
   ],
   "source": [
    "test_result0.shape[0]\n",
    "np.sum((g.predict(test_result_dtc0)<0)*1)\n",
    "np.sum((g.predict(test_result0)>0)*1)\n",
    "np.sum((g.predict(val0)>0)*1)"
   ]
  },
  {
   "cell_type": "code",
   "execution_count": 925,
   "metadata": {},
   "outputs": [
    {
     "name": "stdout",
     "output_type": "stream",
     "text": [
      "[  0   0   0 ... 159 159 159]\n"
     ]
    }
   ],
   "source": [
    "std = np.std(val_diff, axis=0)\n",
    "mean = np.mean(val_diff, axis=0)\n",
    "\n",
    "a = np.where(std/mean > 100)[0]\n",
    "print(a)"
   ]
  },
  {
   "cell_type": "code",
   "execution_count": 815,
   "metadata": {},
   "outputs": [
    {
     "name": "stdout",
     "output_type": "stream",
     "text": [
      "[42 68 97]\n"
     ]
    }
   ],
   "source": [
    "b = np.where(std > 0.1)[0]\n",
    "print(b)"
   ]
  },
  {
   "cell_type": "code",
   "execution_count": 843,
   "metadata": {},
   "outputs": [
    {
     "name": "stdout",
     "output_type": "stream",
     "text": [
      "[  0   1   2   3   4   5   7   8   9  11  12  13  14  15  16  17  18  19\n",
      "  20  21  22  23  24  25  26  28  29  30  31  37  38  39  42  43  44  45\n",
      "  46  47  48  49  50  52  54  55  56  57  58  59  60  61  62  64  65  67\n",
      "  68  69  70  72  73  75  76  88  89  90  91  92  93  94  96  97  98 100\n",
      " 101 102 103 104 105 106 108 109 110 111 113 114 115 116 117 118 119 120\n",
      " 122 123 124 125 126 127 128 129 130 131 133 134 135 136 139 140 141 142\n",
      " 143 144]\n"
     ]
    }
   ],
   "source": [
    "c = np.where(abs(mean) > 0.00004)[0]\n",
    "print(c)"
   ]
  },
  {
   "cell_type": "code",
   "execution_count": 831,
   "metadata": {},
   "outputs": [
    {
     "name": "stdout",
     "output_type": "stream",
     "text": [
      "[  0   6   7  13  14  16  20  50  58  92 105 115]\n"
     ]
    }
   ],
   "source": [
    "c = np.where(mean > 0.00001)[0]\n",
    "print(c)"
   ]
  },
  {
   "cell_type": "code",
   "execution_count": 735,
   "metadata": {},
   "outputs": [
    {
     "name": "stdout",
     "output_type": "stream",
     "text": [
      "[  2  14  15  16  20  30  36  37  39  42  44  46  47  48  50  52  53  54\n",
      "  55  56  59  69  76  77  89  90  92  93  94  96 100 101 102 103 104 105\n",
      " 108 109 116 117 118 119 122 123 124 125 126 128 135 136 139 140 141 144]\n"
     ]
    }
   ],
   "source": [
    "d = np.where(mean/std > 0.1)[0]\n",
    "print(d)"
   ]
  },
  {
   "cell_type": "code",
   "execution_count": 846,
   "metadata": {},
   "outputs": [],
   "source": [
    "drop_list = np.unique(np.concatenate((b, c), axis=0))\n",
    "val_diff = np.delete(val_diff, drop_list, axis=1)"
   ]
  },
  {
   "cell_type": "code",
   "execution_count": 844,
   "metadata": {},
   "outputs": [
    {
     "data": {
      "text/plain": [
       "110"
      ]
     },
     "execution_count": 844,
     "metadata": {},
     "output_type": "execute_result"
    }
   ],
   "source": [
    "len(c)"
   ]
  },
  {
   "cell_type": "code",
   "execution_count": 737,
   "metadata": {},
   "outputs": [
    {
     "data": {
      "text/plain": [
       "(110,)"
      ]
     },
     "execution_count": 737,
     "metadata": {},
     "output_type": "execute_result"
    }
   ],
   "source": [
    "drop_list.shape"
   ]
  },
  {
   "cell_type": "code",
   "execution_count": 775,
   "metadata": {},
   "outputs": [
    {
     "name": "stdout",
     "output_type": "stream",
     "text": [
      "0.9899232245681382\n",
      "0.9817658349328215\n",
      "0.5384615384615384\n"
     ]
    }
   ],
   "source": [
    "print(np.sum(np.sum((g.predict(val_diff)>0)*1)/val_diff.shape[0]))\n",
    "print(np.sum(np.sum((g.predict(test_result)>0)*1)/test_result.shape[0]))\n",
    "print(np.sum(np.sum((g.predict(test_result_dtc)<0)*1)/test_result_dtc.shape[0]))"
   ]
  },
  {
   "cell_type": "code",
   "execution_count": 817,
   "metadata": {},
   "outputs": [
    {
     "data": {
      "text/plain": [
       "0.8461538461538461"
      ]
     },
     "execution_count": 817,
     "metadata": {},
     "output_type": "execute_result"
    }
   ],
   "source": [
    "np.sum(np.sum((g.predict(test_result_dtc)<0)*1)/test_result_dtc.shape[0])"
   ]
  },
  {
   "cell_type": "code",
   "execution_count": 604,
   "metadata": {},
   "outputs": [
    {
     "data": {
      "text/plain": [
       "0.9481765834932822"
      ]
     },
     "execution_count": 604,
     "metadata": {},
     "output_type": "execute_result"
    }
   ],
   "source": [
    "np.sum(np.sum((g.predict(test_result)>0)*1)/test_result.shape[0])"
   ]
  },
  {
   "cell_type": "code",
   "execution_count": 860,
   "metadata": {},
   "outputs": [
    {
     "data": {
      "text/plain": [
       "(52, 60)"
      ]
     },
     "execution_count": 860,
     "metadata": {},
     "output_type": "execute_result"
    }
   ],
   "source": [
    "test_result_dtc.shape"
   ]
  },
  {
   "cell_type": "code",
   "execution_count": 850,
   "metadata": {},
   "outputs": [],
   "source": [
    "test_result_dtc = np.delete(test_result_dtc, drop_list, axis=1)"
   ]
  },
  {
   "cell_type": "code",
   "execution_count": 851,
   "metadata": {},
   "outputs": [],
   "source": [
    "test_result = np.delete(test_result, drop_list, axis=1)"
   ]
  },
  {
   "cell_type": "code",
   "execution_count": 48,
   "metadata": {},
   "outputs": [],
   "source": [
    "a = g.predict(sample)\n",
    "np.savetxt(\"rn.csv\", a, delimiter=\",\")"
   ]
  },
  {
   "cell_type": "code",
   "execution_count": 406,
   "metadata": {},
   "outputs": [
    {
     "data": {
      "text/plain": [
       "(1042, 160)"
      ]
     },
     "execution_count": 406,
     "metadata": {},
     "output_type": "execute_result"
    }
   ],
   "source": [
    "test_result.shape"
   ]
  },
  {
   "cell_type": "code",
   "execution_count": null,
   "metadata": {},
   "outputs": [],
   "source": [
    "dd = np.sum(test_result_dtc[:, judge4].squeeze(), axis=1)\n",
    "np.savetxt(\"r_dtc.csv\", dd, delimiter=\",\")"
   ]
  },
  {
   "cell_type": "code",
   "execution_count": null,
   "metadata": {},
   "outputs": [],
   "source": [
    "nn = np.sum(test_result[:, judge4].squeeze(), axis=1)\n",
    "np.savetxt(\"r_normal.csv\", nn, delimiter=\",\")"
   ]
  },
  {
   "cell_type": "code",
   "execution_count": 95,
   "metadata": {},
   "outputs": [
    {
     "data": {
      "text/plain": [
       "array([38.178093, 86.45348 , 53.3025  , ..., 78.117966, 34.780685,\n",
       "       35.026764], dtype=float32)"
      ]
     },
     "execution_count": 95,
     "metadata": {},
     "output_type": "execute_result"
    }
   ],
   "source": [
    "test_result"
   ]
  },
  {
   "cell_type": "code",
   "execution_count": 96,
   "metadata": {},
   "outputs": [],
   "source": [
    "np.savetxt(\"r.csv\", r , delimiter=\",\")"
   ]
  },
  {
   "cell_type": "code",
   "execution_count": 55,
   "metadata": {},
   "outputs": [],
   "source": [
    "judge = (abs(mse) > abs(thresh)) * 1\n",
    "'''\n",
    "judge.shape[0]*0.10 = 208.4\n",
    "'''\n",
    "judge1 = np.sum(judge, axis=1)\n",
    "# re = np.sum(judge, axis=0)\n",
    "np.savetxt(\"foo1.csv\", judge1, delimiter=\",\")"
   ]
  },
  {
   "cell_type": "code",
   "execution_count": 56,
   "metadata": {},
   "outputs": [],
   "source": [
    "judge2 = judge[np.where(judge1 < 3)]"
   ]
  },
  {
   "cell_type": "code",
   "execution_count": 57,
   "metadata": {},
   "outputs": [
    {
     "data": {
      "text/plain": [
       "array([ 2,  1,  3,  2,  0,  0,  0,  3,  8,  3,  1, 11, 10,  1,  0,  0,  0,\n",
       "        3,  7,  6,  8,  0,  1,  0,  0,  8,  8,  1,  4,  0,  0,  4,  0,  0,\n",
       "        0,  0,  0,  0,  8,  0,  0,  0,  0,  2,  0,  4,  0,  0,  0,  3,  1,\n",
       "        0,  0,  0,  0,  0,  0,  0,  3,  0,  2,  0,  2,  0,  1,  4,  1, 12,\n",
       "       10,  0, 10, 10,  2,  2, 11,  1,  0,  0,  0,  0,  0,  0,  0,  0,  0,\n",
       "        0,  0,  0,  2,  0,  0, 29,  0,  0,  0,  0,  0, 22, 40,  0,  0,  0,\n",
       "        0,  0,  0,  0,  6,  9,  0,  0,  3, 13,  2,  1,  2,  6,  0,  0,  0,\n",
       "        6, 10,  0,  0,  0,  0,  0,  0,  2,  5, 11,  2,  1,  7,  5,  2,  0,\n",
       "        0,  4,  1,  0,  1,  0,  2,  5,  0,  0,  0,  0,  0,  0,  0,  0,  0,\n",
       "        0,  0,  0,  0,  0,  0,  0])"
      ]
     },
     "execution_count": 57,
     "metadata": {},
     "output_type": "execute_result"
    }
   ],
   "source": [
    "judge3 = np.sum(judge2, axis=0)\n",
    "judge3"
   ]
  },
  {
   "cell_type": "code",
   "execution_count": 58,
   "metadata": {},
   "outputs": [],
   "source": [
    "judge4 = np.where(judge3 < 1)"
   ]
  },
  {
   "cell_type": "code",
   "execution_count": 59,
   "metadata": {},
   "outputs": [],
   "source": [
    "# Test result\n",
    "test_result_dtc = []\n",
    "for dtc_code in failure_dict:\n",
    "#     dtc_code = list(failure_dict.keys())[0]\n",
    "\n",
    "    for test_dtc in failure_dict[dtc_code]:\n",
    "#         test_dtc = failure_dict[dtc_code][0]\n",
    "\n",
    "        x_test_dtc = test_dtc[:, :, output_length:]\n",
    "        y_test_dtc = test_dtc[:, :, :output_length]\n",
    "        x_test_dtc = x_test_dtc.transpose(0, 1).cuda()\n",
    "        y_pred = net(x_test_dtc).transpose(0, 1).cpu().detach().numpy()\n",
    "        y_test_dtc = y_test_dtc.numpy()\n",
    "\n",
    "        mse = (y_pred - y_test_dtc).mean(axis=1)\n",
    "        judge = (abs(mse) > abs(thresh)) * 1\n",
    "        test_result_dtc += [judge.squeeze()]\n",
    "#         print(judge)\n",
    "\n",
    "\n",
    "test_result_dtc = np.array(test_result_dtc)\n",
    "# failure_np = reshaped.reshape((failure_np.shape[0], failure_np.shape[1], failure_np.shape[2]))\n",
    "# failure_dict[dtc_code] = failure_np\n",
    "np.save('dtc.npy', test_result_dtc)"
   ]
  },
  {
   "cell_type": "code",
   "execution_count": 63,
   "metadata": {},
   "outputs": [],
   "source": [
    "x_test = test[:, :, output_length:]\n",
    "y_test = test[:, :, :output_length]\n",
    "\n",
    "x_test = x_test.transpose(0, 1).cuda()\n",
    "y_pred = net(x_test).transpose(0, 1).cpu().detach().numpy()\n",
    "y_test = y_test.numpy()\n",
    "mse = (y_pred - y_test).mean(axis=1)\n",
    "test_result = (abs(mse) > abs(thresh)) * 1"
   ]
  },
  {
   "cell_type": "code",
   "execution_count": 50,
   "metadata": {},
   "outputs": [
    {
     "data": {
      "text/plain": [
       "torch.Size([160, 1042, 119])"
      ]
     },
     "execution_count": 50,
     "metadata": {},
     "output_type": "execute_result"
    }
   ],
   "source": [
    "x_test.shape"
   ]
  },
  {
   "cell_type": "code",
   "execution_count": 64,
   "metadata": {},
   "outputs": [],
   "source": [
    "dd = np.sum(test_result_dtc[:, judge4].squeeze(), axis=1)\n",
    "np.savetxt(\"r_dtc.csv\", dd, delimiter=\",\")"
   ]
  },
  {
   "cell_type": "code",
   "execution_count": 65,
   "metadata": {},
   "outputs": [],
   "source": [
    "nn = np.sum(test_result[:, judge4].squeeze(), axis=1)\n",
    "np.savetxt(\"r_normal.csv\", nn, delimiter=\",\")"
   ]
  },
  {
   "cell_type": "code",
   "execution_count": 386,
   "metadata": {},
   "outputs": [
    {
     "data": {
      "text/plain": [
       "(110,)"
      ]
     },
     "execution_count": 386,
     "metadata": {},
     "output_type": "execute_result"
    }
   ],
   "source": [
    "judge4[0].shape"
   ]
  },
  {
   "cell_type": "code",
   "execution_count": 54,
   "metadata": {},
   "outputs": [
    {
     "data": {
      "text/plain": [
       "[<matplotlib.lines.Line2D at 0x7fd30d818240>]"
      ]
     },
     "execution_count": 54,
     "metadata": {},
     "output_type": "execute_result"
    },
    {
     "data": {
      "image/png": "[encoded data removed]",
      "text/plain": [
       "<Figure size 432x288 with 1 Axes>"
      ]
     },
     "metadata": {},
     "output_type": "display_data"
    }
   ],
   "source": [
    "\n",
    "fig, ax = plt.subplots(1, 1)\n",
    "a, loc, b = gamma.fit(mse[:,0],)\n",
    "# gamma.pdf(x, a, loc, scale) \n",
    "x = np.linspace(gamma.ppf(0.01, a),\n",
    "\n",
    "                gamma.ppf(0.99, a), 100)\n",
    "\n",
    "ax.plot(x, gamma.pdf(x, a),'r-', lw=5, alpha=0.1, label='gamma pdf')"
   ]
  },
  {
   "cell_type": "code",
   "execution_count": 53,
   "metadata": {},
   "outputs": [
    {
     "data": {
      "text/plain": [
       "{'boxes': [<matplotlib.lines.Line2D at 0x7fd30da55550>],\n",
       " 'caps': [<matplotlib.lines.Line2D at 0x7fd30da55da0>,\n",
       "  <matplotlib.lines.Line2D at 0x7fd30d8cf128>],\n",
       " 'fliers': [<matplotlib.lines.Line2D at 0x7fd30d8cf7b8>],\n",
       " 'means': [],\n",
       " 'medians': [<matplotlib.lines.Line2D at 0x7fd30d8cf470>],\n",
       " 'whiskers': [<matplotlib.lines.Line2D at 0x7fd30da556a0>,\n",
       "  <matplotlib.lines.Line2D at 0x7fd30da55a58>]}"
      ]
     },
     "execution_count": 53,
     "metadata": {},
     "output_type": "execute_result"
    },
    {
     "data": {
      "image/png": "[encoded data removed]",
      "text/plain": [
       "<Figure size 432x288 with 1 Axes>"
      ]
     },
     "metadata": {},
     "output_type": "display_data"
    }
   ],
   "source": [
    "% matplotlib inline\n",
    "fig1, ax1 = plt.subplots()\n",
    "ax1.set_title('Basic Plot')\n",
    "ax1.boxplot(mse[:,0])"
   ]
  },
  {
   "cell_type": "code",
   "execution_count": 27,
   "metadata": {},
   "outputs": [
    {
     "data": {
      "text/plain": [
       "(2086, 160)"
      ]
     },
     "execution_count": 27,
     "metadata": {},
     "output_type": "execute_result"
    }
   ],
   "source": [
    "judge.shape\n",
    "# np.mean(judge, axis=0)\n",
    "# np.sum(judge, axis=0)"
   ]
  },
  {
   "cell_type": "code",
   "execution_count": 67,
   "metadata": {},
   "outputs": [
    {
     "name": "stdout",
     "output_type": "stream",
     "text": [
      "[[0 0 0 ... 0 0 0]\n",
      " [0 0 0 ... 0 0 0]\n",
      " [1 0 0 ... 0 0 0]\n",
      " ...\n",
      " [1 0 0 ... 0 0 0]\n",
      " [0 0 0 ... 0 0 0]\n",
      " [0 0 0 ... 0 0 0]]\n"
     ]
    }
   ],
   "source": [
    "# judge = (mse > thresh) * 1\n",
    "a = np.sum(judge, axis=1)\n",
    "a = np.sum(a, axis=0)\n",
    "print(judge)"
   ]
  },
  {
   "cell_type": "code",
   "execution_count": 56,
   "metadata": {},
   "outputs": [
    {
     "data": {
      "text/plain": [
       "array([1.        , 1.41421356])"
      ]
     },
     "execution_count": 56,
     "metadata": {},
     "output_type": "execute_result"
    }
   ],
   "source": [
    "a = np.array([1,2])\n",
    "a**0.5"
   ]
  },
  {
   "cell_type": "code",
   "execution_count": 44,
   "metadata": {},
   "outputs": [],
   "source": [
    "judge.shape\n",
    "np.savetxt(\"foo.csv\", judge, delimiter=\",\")"
   ]
  },
  {
   "cell_type": "code",
   "execution_count": 23,
   "metadata": {},
   "outputs": [],
   "source": []
  },
  {
   "cell_type": "code",
   "execution_count": 80,
   "metadata": {},
   "outputs": [],
   "source": [
    "# Test result\n",
    "test_result_dtc = []\n",
    "for dtc_code in failure_dict:\n",
    "#     dtc_code = list(failure_dict.keys())[0]\n",
    "\n",
    "    for test_dtc in failure_dict[dtc_code]:\n",
    "#         test_dtc = failure_dict[dtc_code][0]\n",
    "\n",
    "        x_test_dtc = test_dtc[:, :, output_length:]\n",
    "        y_test_dtc = test_dtc[:, :, :output_length]\n",
    "        x_test_dtc = x_test_dtc.transpose(0, 1).cuda()\n",
    "        y_pred = net(x_test_dtc).transpose(0, 1).cpu().detach().numpy()\n",
    "        y_test_dtc = y_test_dtc.numpy()\n",
    "\n",
    "        mse = ((y_pred - y_test_dtc)**2).mean(axis=1)\n",
    "        judge = (mse > thresh) * 1\n",
    "        test_result_dtc += [judge.squeeze()]\n",
    "#         print(judge)\n",
    "\n",
    "\n",
    "test_result_dtc = np.array(test_result_dtc)\n",
    "# failure_np = reshaped.reshape((failure_np.shape[0], failure_np.shape[1], failure_np.shape[2]))\n",
    "# failure_dict[dtc_code] = failure_np\n",
    "np.save('dtc.npy', test_result_dtc)"
   ]
  },
  {
   "cell_type": "code",
   "execution_count": 81,
   "metadata": {},
   "outputs": [],
   "source": [
    "x_test = test[:, :, output_length:]\n",
    "y_test = test[:, :, :output_length]\n",
    "\n",
    "x_test = x_test.transpose(0, 1).cuda()\n",
    "y_pred = net(x_test).transpose(0, 1).cpu().detach().numpy()\n",
    "y_test = y_test.numpy()\n",
    "mse = ((y_pred - y_test)**2).mean(axis=1)\n",
    "test_result = (mse > thresh) * 1"
   ]
  },
  {
   "cell_type": "code",
   "execution_count": 82,
   "metadata": {},
   "outputs": [
    {
     "data": {
      "text/plain": [
       "array([ 0,  8,  5,  4,  0,  0,  4, 24,  0, 23,  0,  1,  1,  9,  4,  4,  4,\n",
       "        0, 15, 14,  0,  0,  5,  0,  0,  0,  0,  0,  0,  0,  4,  0,  0,  0,\n",
       "        0,  0,  4,  4,  0,  4,  0,  0,  0,  0,  4,  0,  4,  4,  4,  1,  3,\n",
       "        0,  4,  4,  4,  4,  0,  0,  0,  0,  0,  4,  4,  4,  3,  0,  0,  0,\n",
       "        0,  4,  1,  0,  0,  0,  0,  0,  4,  4,  0,  0,  0,  0,  0,  0,  0,\n",
       "        0,  0,  0,  0,  4,  4,  0,  4,  4,  4,  4,  4,  9,  0,  0,  4,  4,\n",
       "        4,  4,  4,  4,  0,  4,  4,  4,  0,  0,  7,  0,  0,  2,  4,  4,  4,\n",
       "        4,  0,  4,  4,  4,  4,  4,  4,  0,  0,  0,  0,  0,  0,  0,  1,  0,\n",
       "        4,  0,  0,  4,  4,  0,  4,  0,  4,  0,  0,  0,  0,  0,  0,  0,  0,\n",
       "        0,  0,  0,  0,  0,  0,  0])"
      ]
     },
     "execution_count": 82,
     "metadata": {},
     "output_type": "execute_result"
    }
   ],
   "source": [
    "np.sum(test_result_dtc, axis=0)"
   ]
  },
  {
   "cell_type": "code",
   "execution_count": 83,
   "metadata": {},
   "outputs": [
    {
     "data": {
      "text/plain": [
       "array([ 0,  0,  0,  0,  0,  0,  0,  0,  4,  2,  0,  0,  0,  0,  1,  1,  1,\n",
       "        0,  1,  1,  0,  0,  1,  1,  0,  0,  0,  0,  0,  0,  1,  0,  0,  0,\n",
       "        0,  0,  1,  1,  0,  1,  0,  0,  0,  0,  1,  0,  1,  1,  1,  0,  0,\n",
       "        0,  1,  0,  0,  0,  0,  0,  0,  0,  1,  0,  0,  0,  0,  0,  0,  0,\n",
       "        0,  1,  1,  5,  0,  0,  0,  0,  1,  1,  0,  0,  0,  0,  0,  0,  0,\n",
       "        0,  0,  0,  0,  1,  1,  2,  1,  1,  1,  0,  1, 19,  0,  0,  0,  1,\n",
       "        1,  1,  1,  1,  0,  0,  0,  0,  0,  0,  1,  0,  0,  0,  1,  1,  1,\n",
       "        0,  0,  0,  0,  1,  1,  1,  1,  0,  0,  0,  0,  0,  0,  0,  2,  0,\n",
       "        0,  0,  0,  0,  0,  0,  0,  2,  1,  0,  0,  0,  0,  0,  0,  0,  0,\n",
       "        0,  0,  0,  0,  0,  0,  0])"
      ]
     },
     "execution_count": 83,
     "metadata": {},
     "output_type": "execute_result"
    }
   ],
   "source": [
    "np.sum(test_result, axis=0)"
   ]
  },
  {
   "cell_type": "code",
   "execution_count": 94,
   "metadata": {},
   "outputs": [],
   "source": [
    "np.savetxt(\"normal.csv\", test_result.sum(axis=1), delimiter=\",\")"
   ]
  },
  {
   "cell_type": "code",
   "execution_count": 93,
   "metadata": {},
   "outputs": [],
   "source": [
    "# np.save('dtc.npy', test_result_dtc.sum(axis=1))\n",
    "np.savetxt(\"dtc.csv\", test_result_dtc.sum(axis=1), delimiter=\",\")"
   ]
  },
  {
   "cell_type": "code",
   "execution_count": 33,
   "metadata": {},
   "outputs": [],
   "source": [
    "np.savetxt(\"foo.csv\", a, delimiter=\",\")"
   ]
  },
  {
   "cell_type": "code",
   "execution_count": 20,
   "metadata": {},
   "outputs": [],
   "source": [
    "path = 'CSV/VC65_04_ENG_dtc'\n",
    "failure_dict = {}\n",
    "\n",
    "dtc_codes = os.listdir(path)\n",
    "for dtc_code in dtc_codes:\n",
    "    failure_list = []\n",
    "    files = os.listdir(os.path.join(path, dtc_code))\n",
    "\n",
    "    for file in files:\n",
    "        if file[-4:] != '.csv': continue\n",
    "        data = pd.read_csv(os.path.join(path, dtc_code, file),header=None, encoding = 'Shift-JIS')\n",
    "        data = data.to_numpy()\n",
    "        data = data[:, all_idx]\n",
    "        data = data.astype(np.float32)\n",
    "\n",
    "        data[:, :output_length] = data_set.scalerY.transform(data[:, :output_length])\n",
    "        data[:, output_length:] = data_set.scalerX.transform(data[:, output_length:])\n",
    "        data = data[np.newaxis, ...]\n",
    "        data = torch.from_numpy(data).to(dtype=torch.float32)\n",
    "        failure_list += [data]\n",
    "        \n",
    "    failure_dict[dtc_code] = failure_list\n",
    "\n",
    "\n",
    "# failure_np = reshaped.reshape((failure_np.shape[0], failure_np.shape[1], failure_np.shape[2]))\n",
    "# failure_dict[dtc_code] = failure_np\n",
    "# np.save('VC65_04_ENG_dtc.npy', normal_np)"
   ]
  }
 ],
 "metadata": {
  "kernelspec": {
   "display_name": "Python 3",
   "language": "python",
   "name": "python3"
  },
  "language_info": {
   "codemirror_mode": {
    "name": "ipython",
    "version": 3
   },
   "file_extension": ".py",
   "mimetype": "text/x-python",
   "name": "python",
   "nbconvert_exporter": "python",
   "pygments_lexer": "ipython3",
   "version": "3.6.9"
  }
 },
 "nbformat": 4,
 "nbformat_minor": 2
}
